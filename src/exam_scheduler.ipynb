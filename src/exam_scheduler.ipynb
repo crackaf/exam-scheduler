{
 "cells": [
  {
   "cell_type": "markdown",
   "metadata": {},
   "source": [
    "# Requirements"
   ]
  },
  {
   "cell_type": "code",
   "execution_count": null,
   "metadata": {},
   "outputs": [],
   "source": [
    "import random as rnd\n",
    "import pandas as pd\n",
    "import numpy as np\n",
    "import matplotlib as plt\n"
   ]
  },
  {
   "cell_type": "markdown",
   "metadata": {},
   "source": [
    "# Data"
   ]
  },
  {
   "cell_type": "code",
   "execution_count": null,
   "metadata": {},
   "outputs": [],
   "source": [
    "capfile = \"Capacity.csv\"\n",
    "dayslotfile = \"DaysSlots.csv\"\n",
    "regsfile = \"R_Data.csv\"\n",
    "\n",
    "#  importing roomsdf CAPACITY\n",
    "global roomsdf\n",
    "roomsdf = pd.read_csv(capfile, names=['RoomID', 'Capacity'], dtype=np.int64)\n",
    "roomsdf\n"
   ]
  },
  {
   "cell_type": "code",
   "execution_count": null,
   "metadata": {},
   "outputs": [],
   "source": [
    "\n",
    "#  importing DAY SLOTS\n",
    "global slotsdf\n",
    "slotsdf = pd.read_csv(dayslotfile, dtype=np.int64)\n",
    "slotsdf\n"
   ]
  },
  {
   "cell_type": "code",
   "execution_count": null,
   "metadata": {},
   "outputs": [],
   "source": [
    "#  importing REGISTRATION data\n",
    "global regsdf\n",
    "regsdf = pd.read_csv(regsfile)\n",
    "regsdf = regsdf.groupby('SID\\CID').sum()\n",
    "regsdf = regsdf.astype(bool)\n",
    "regsdf"
   ]
  },
  {
   "cell_type": "code",
   "execution_count": null,
   "metadata": {},
   "outputs": [],
   "source": [
    "#  STUDENTS\n",
    "global studentsdf\n",
    "studentsdf = regsdf.index.to_numpy()\n",
    "studentsdf\n"
   ]
  },
  {
   "cell_type": "code",
   "execution_count": null,
   "metadata": {},
   "outputs": [],
   "source": [
    "#  COURSES\n",
    "global coursesdf\n",
    "coursesdf = regsdf.columns\n",
    "coursesdf = np.array(coursesdf, np.int64)\n",
    "coursesdf\n"
   ]
  },
  {
   "cell_type": "code",
   "execution_count": null,
   "metadata": {},
   "outputs": [],
   "source": [
    "totalrooms = roomsdf['RoomID'].size\n",
    "totalstudents = studentsdf.size\n",
    "totalslots = slotsdf['Slots'].sum()\n",
    "totalcourses = coursesdf.size\n"
   ]
  },
  {
   "cell_type": "code",
   "execution_count": null,
   "metadata": {},
   "outputs": [],
   "source": [
    "# Related to room\n",
    "\n",
    "def get_room_cap(roomid):\n",
    "    return roomsdf.loc[roomsdf['RoomID'] == roomid].iloc[0, 1]\n",
    "\n",
    "\n",
    "def set_room_cap(roomid, capacity):\n",
    "    roomsdf.loc[roomsdf['RoomID'] == roomid].iloc[0, 1] = capacity\n",
    "\n",
    "\n",
    "def get_room(index):\n",
    "    return roomsdf.iloc[index, 0]\n",
    "\n",
    "# Related to coursesdf\n",
    "\n",
    "\n",
    "def get_course_students(courseid):\n",
    "    return regsdf.loc[regsdf[str(courseid)] == True].index\n",
    "\n",
    "\n",
    "def get_student_courses(studentid):\n",
    "    lst = regsdf.loc[studentid]\n",
    "    lst = lst.to_frame()\n",
    "    return lst[lst[studentid] == True].index.to_numpy(dtype=np.int64)\n",
    "\n",
    "\n",
    "def student_taking_course(studentid, courseid) -> bool:\n",
    "    return regsdf.loc[studentid][str(courseid)]\n"
   ]
  },
  {
   "cell_type": "markdown",
   "metadata": {},
   "source": [
    "# Representation"
   ]
  },
  {
   "cell_type": "markdown",
   "metadata": {},
   "source": [
    "## Gene\n",
    "The chromosome is made up of many genes. In our program we are using course, students, room and slot as our gene. So When these many genes will combine will make a chromosome.\n",
    "\n",
    "In other words, you can say this is our representation of the genes.\n",
    "\n",
    "Gene=(course, room, slot, students)"
   ]
  },
  {
   "cell_type": "code",
   "execution_count": null,
   "metadata": {},
   "outputs": [],
   "source": [
    "class Gene:\n",
    "    def __init__(self, course=None, room=None, slot=None, students=None,):\n",
    "        # if there are None value then we will use random values\n",
    "        if course is None:\n",
    "            course = self.get_rand_course()\n",
    "        if room is None:\n",
    "            room = self.get_rand_room()\n",
    "        if slot is None:\n",
    "            slot = self.get_rand_slot()\n",
    "        if students is None:\n",
    "            students = self.get_rand_students(course, room)\n",
    "\n",
    "        # copying to the self variables\n",
    "        self.course = course\n",
    "        self.room = room\n",
    "        self.slot = slot\n",
    "        self.students = students\n",
    "\n",
    "    def __str__(self) -> str:\n",
    "        return (\n",
    "            \"Gene[\" +\n",
    "            \"course=\"+str(self.course)+\", \" +\n",
    "            \"room=\"+str(self.room)+\", \" +\n",
    "            \"slot=\"+str(self.slot)+\", \" +\n",
    "            \"students=\"+str(self.students) +\n",
    "            \"]\"\n",
    "        )\n",
    "\n",
    "    def __repr__(self) -> str:\n",
    "        return (\n",
    "            \"Gene[\" +\n",
    "            \"course=\"+str(self.course)+\", \" +\n",
    "            \"room=\"+str(self.room)+\", \" +\n",
    "            \"slot=\"+str(self.slaot)+\", \" +\n",
    "            \"students=\"+str(len(self.students)) +\n",
    "            \"]\"\n",
    "        )\n",
    "\n",
    "    def get_rand_course(self):\n",
    "        return coursesdf[rnd.randint(0, totalcourses-1)]\n",
    "\n",
    "    def get_rand_room(self):\n",
    "        return get_room(rnd.randint(0, totalrooms-1))\n",
    "\n",
    "    def get_rand_slot(self):\n",
    "        return rnd.randint(1, totalslots)\n",
    "\n",
    "    def get_rand_students(self, course, room):\n",
    "        course_studs = get_course_students(course)\n",
    "        return np.array([course_studs[rnd.randint(0, len(course_studs) - 1)] for _ in range(get_room_cap(room))])\n"
   ]
  },
  {
   "cell_type": "markdown",
   "metadata": {},
   "source": [
    "## Chromosome\n",
    "A array of genes. In our case a chromosome is whole representation of timetabl."
   ]
  },
  {
   "cell_type": "code",
   "execution_count": null,
   "metadata": {},
   "outputs": [],
   "source": [
    "class Chromosome:\n",
    "    def __init__(self, genes=None, fitnessval=None, rng=None):\n",
    "        # filling random values if None\n",
    "        if rng is None:\n",
    "            rng = rnd.randint(totalcourses, totalcourses*2)\n",
    "        if genes is None:\n",
    "            genes = [Gene() for _ in range(0, rng)]\n",
    "        if fitnessval is None:\n",
    "            fitnessval = 0\n",
    "\n",
    "        self.genes = np.array(genes)\n",
    "        self.fitnessval = fitnessval\n",
    "        self.detailfitness = {}\n",
    "\n",
    "    # for genes list indexing\n",
    "    def __getitem__(self, index):\n",
    "        return self.genes[index]\n",
    "\n",
    "        # for printing\n",
    "    def __str__(self) -> str:\n",
    "        return (\n",
    "            \"Chrom[\" +\n",
    "            \"Genes=\"+str(len(self.genes))+\", \" +\n",
    "            \"Fitness=\"+str(self.fitnessval) +\n",
    "            \"]\"\n",
    "        )\n",
    "\n",
    "    def __repr__(self) -> str:\n",
    "        return self.__str__()\n",
    "\n",
    "    # # for comparison\n",
    "    # def __gt__(self, other) -> bool:\n",
    "    #     return self.fitnessval > other.fitnessval\n",
    "\n",
    "    # def __lt__(self, other) -> bool:\n",
    "    #     return self.fitnessval < other.fitnessval\n",
    "\n",
    "    # Courses of every gene\n",
    "    def get_courses(self):\n",
    "        return np.array([gene.course for gene in self.genes])\n",
    "\n",
    "    def get_slots(self):\n",
    "        return np.array([gene.slot for gene in self.genes])\n",
    "\n",
    "    def get_rooms(self):\n",
    "        return np.array([gene.room for gene in self.genes])\n",
    "\n",
    "    def get_room_students(self, roomid):\n",
    "        return np.array([gene.students for gene in self.genes if gene.room == roomid])\n",
    "\n",
    "    def get_all_students(self):\n",
    "        return np.concatenate([gene.students for gene in self.genes])\n",
    "        \n",
    "    def get_students_of_course(self,cour):\n",
    "        for i in self.genes:\n",
    "            if self.genes[i].course==cour:\n",
    "                return np.array(self.genes[i].students)\n",
    "\n"
   ]
  },
  {
   "cell_type": "markdown",
   "metadata": {},
   "source": [
    "## Population\n",
    "Population will contains many chromosome and we will apply the genetic algorithm on it"
   ]
  },
  {
   "cell_type": "code",
   "execution_count": null,
   "metadata": {},
   "outputs": [],
   "source": [
    "class Population:\n",
    "    def __init__(self, chromosomes=None, rng=None) -> None:\n",
    "        # filling random values if None\n",
    "        if rng is None:\n",
    "            rng = 10\n",
    "        if chromosomes is None:\n",
    "            chromosomes = [Chromosome() for _ in range(rng)]\n",
    "\n",
    "        self.chromosomes = np.array(chromosomes)\n",
    "\n",
    "    def __str__(self) -> str:\n",
    "        return (\n",
    "            \"Population[\" +\n",
    "            \"size=\"+str(len(self.chromosomes))+\", \" +\n",
    "            \"best=\" +\n",
    "            str(self.get_best())+\", \" +\n",
    "            \"Chromosomes=\\n\" +\n",
    "            \"\\n\".join([str(chrom) for chrom in self.chromosomes]) +\n",
    "            \"]\"\n",
    "        )\n",
    "\n",
    "    def __repr__(self) -> str:\n",
    "        return self.__str__()\n",
    "\n",
    "    # for population indexing\n",
    "    def __getitem__(self, index):\n",
    "        return self.chromosomes[index]\n",
    "\n",
    "    def get_best(self):\n",
    "        if self.chromosomes.size == 0:\n",
    "            return 0\n",
    "        best_chromosome = self.chromosomes[0]\n",
    "        for chromosome in self.chromosomes:\n",
    "            if best_chromosome.fitnessval < chromosome.fitnessval:\n",
    "                best_chromosome = chromosome\n",
    "        return best_chromosome\n",
    "\n",
    "    def get_worst(self):\n",
    "        if self.chromosomes.size == 0:\n",
    "            return 0\n",
    "        worst_chromosome = self.chromosomes[0]\n",
    "        for chromosome in self.chromosomes:\n",
    "            if worst_chromosome.fitnessval > chromosome.fitnessval:\n",
    "                worst_chromosome = chromosome\n",
    "        return worst_chromosome\n",
    "\n",
    "    def sort(self, reverse=False):\n",
    "        self.chromosomes = np.array(sorted(\n",
    "            self.chromosomes, reverse=reverse, key=lambda chrom: chrom.fitnessval))\n",
    "        return self\n"
   ]
  },
  {
   "cell_type": "markdown",
   "metadata": {},
   "source": [
    "## Representation as a Timetable"
   ]
  },
  {
   "cell_type": "code",
   "execution_count": null,
   "metadata": {},
   "outputs": [],
   "source": [
    "def chromosome_to_df(chromosome):\n",
    "    table = np.empty((totalrooms, totalslots), dtype=object)\n",
    "\n",
    "    for course, room, slot in [[gene.course, gene.room, gene.slot] for gene in chromosome]:\n",
    "        i = room-1\n",
    "        j = slot-1\n",
    "        table[i, j] = str(course) if table[i,\n",
    "                                           j] is None else table[i, j]+\", \"+str(course)\n",
    "\n",
    "    table = pd.DataFrame(\n",
    "        table, columns=np.arange(1, totalslots+1).tolist(), index=np.arange(1, totalrooms+1).tolist())\n",
    "    table.index.name = \"RID/SID\"\n",
    "    return table\n"
   ]
  },
  {
   "cell_type": "markdown",
   "metadata": {},
   "source": [
    "# Fitness"
   ]
  },
  {
   "cell_type": "markdown",
   "metadata": {},
   "source": [
    "## Constraints"
   ]
  },
  {
   "cell_type": "markdown",
   "metadata": {},
   "source": [
    "### Hard Constraints"
   ]
  },
  {
   "cell_type": "code",
   "execution_count": null,
   "metadata": {},
   "outputs": [],
   "source": [
    "def one_exam_in_one_slot(chromosome):\n",
    "    '''\n",
    "    One course exam should be in a slot\n",
    "    And after that slot or before that slot there should\n",
    "    be no exam of the course\n",
    "    More means bad\n",
    "    '''\n",
    "\n",
    "    courses = chromosome.get_courses()\n",
    "    slots = chromosome.get_slots()\n",
    "\n",
    "    courseslot = np.array([[course, slot]\n",
    "                           for slot, course in zip(slots, courses)])\n",
    "\n",
    "    # sorting\n",
    "    courseslot = courseslot[courseslot[:, 0].argsort()]\n",
    "\n",
    "    course_slots = np.split(courseslot[:, 1], np.unique(\n",
    "        courseslot[:, 0], return_index=True)[1][1:])\n",
    "\n",
    "    # now in course_slots. Course has list of slots in front of we\n",
    "    # in our case it should be not longer than 1\n",
    "    # counter the conflicts in which the slots are more than 1\n",
    "\n",
    "    lst = [len(slots) for slots in course_slots]\n",
    "\n",
    "    return sum(lst)-len(lst)\n",
    "\n",
    "\n",
    "def one_room_have_one_exam(chromosome):\n",
    "    '''\n",
    "    One room should have one exam at a given time\n",
    "    Count of the conflicts (more means bad)\n",
    "\n",
    "    Will be checking the same_slot, same_room. Which means\n",
    "    that at the given slot the room is beign used twice.\n",
    "    We are not looking at the course because there should \n",
    "    be no duplicated in chromosome for the same room and same slot\n",
    "    '''\n",
    "\n",
    "    rooms = chromosome.get_rooms()\n",
    "    slots = chromosome.get_slots()\n",
    "\n",
    "    slotroom = [(slot, room) for slot, room in zip(slots, rooms)]\n",
    "\n",
    "    # unique slot room and there counts\n",
    "    _, counts = np.unique(slotroom, axis=0, return_counts=True)\n",
    "\n",
    "    # print(counts)#debugging\n",
    "\n",
    "    # counting of duplicate exams in one slot and one room\n",
    "    dups = sum(counts)-len(counts)\n",
    "\n",
    "    return dups\n",
    "\n",
    "\n",
    "def student_one_exam_at_a_time(chromosome):\n",
    "    '''\n",
    "    At a given time, student can only give one exam\n",
    "\n",
    "    In this I'll be also checking the duplication of student in the room\n",
    "    and also in the course. Remeber the course can have multiple rooms within one slot.\n",
    "    So in short I'll be looking for the same student in the same slot at multiple places\n",
    "\n",
    "    Counting the conflics, more means bad\n",
    "    '''\n",
    "\n",
    "    dupstudents = 0  # duplicates of students in more than one slots\n",
    "    dupexam = 0  # multiple exam of students at a time\n",
    "\n",
    "    for i in range(len(chromosome.genes)):\n",
    "        for student in chromosome.genes[i].students:\n",
    "            for gene in chromosome:\n",
    "                if gene == chromosome.genes[i] != gene.slot == chromosome.genes[i].slot:\n",
    "                    if student in gene.students:  # multiple exam\n",
    "                        dupexam += 1\n",
    "\n",
    "        # counting duplicates of student in the same room\n",
    "        dupstudents += len(chromosome.genes[i].students) - \\\n",
    "            len(set(chromosome.genes[i].students))\n",
    "\n",
    "    return dupstudents+dupexam\n",
    "\n",
    "\n",
    "def one_exam_per_course(chromosome):\n",
    "    ''' \n",
    "    Every course should have one exam\n",
    "    Not two Not zero, only one\n",
    "    Count of the conflicts (more means bad)\n",
    "    '''\n",
    "\n",
    "    courses = chromosome.get_courses()\n",
    "\n",
    "    uniquecourses, counts = np.unique(courses, return_counts=True)\n",
    "\n",
    "    # counting the courses which don't have exam\n",
    "    nocourseexam = totalcourses-len(uniquecourses)\n",
    "\n",
    "    # counting of courses which have exam more than once\n",
    "    dupcourseexam = sum(counts)-len(counts)\n",
    "\n",
    "    return nocourseexam+dupcourseexam\n",
    "\n",
    "\n",
    "def student_taking_correct_exam(chromosome):\n",
    "    ''' \n",
    "    The Students must take every exam in which they are registered in\n",
    "    Doesn't Count the number of missing courses for student XXX\n",
    "    Count the number of missing student in courses\n",
    "    more count means bad\n",
    "    '''\n",
    "\n",
    "    missing_students = 0  # number of students that are missing from exam\n",
    "\n",
    "    for genes in chromosome:\n",
    "        correct_sitting = 0\n",
    "        for student in genes.students:\n",
    "            stu_courses = get_student_courses(student)\n",
    "            if genes.course in stu_courses:\n",
    "                correct_sitting += 1\n",
    "        missing_students += len(genes.students)-correct_sitting\n",
    "\n",
    "    return missing_students\n",
    "\n",
    "\n",
    "def room_cap_enough_for_students(chromosome):\n",
    "    '''\n",
    "    Every Gene hae room and student\n",
    "    In here we will just check that there should be enough\n",
    "    capacity to hold those students \n",
    "\n",
    "    Counting conflicts, more means bad\n",
    "    '''\n",
    "\n",
    "    # [(room capacity , number of students)]\n",
    "    roomcap_students = [(get_room_cap(gene.room), len(gene.students))\n",
    "                        for gene in chromosome]\n",
    "\n",
    "    extra_stu = 0  # counting of extra students in room\n",
    "    empty_space = 0  # counting of empaty space in room\n",
    "\n",
    "    for cap, stu in roomcap_students:\n",
    "        if stu > cap:\n",
    "            extra_stu += stu-cap\n",
    "        else:\n",
    "            empty_space += cap-stu\n",
    "\n",
    "    # extrastudents+(empty spaces)/10 beacause it's not good to have empty rooms\n",
    "    return extra_stu+empty_space//10\n"
   ]
  },
  {
   "cell_type": "code",
   "execution_count": null,
   "metadata": {},
   "outputs": [],
   "source": [
    "HARD_CONSTRAINTS = [\n",
    "    {\n",
    "        # One course exam should be in a slot\n",
    "        # And after that slot or before that slot there should\n",
    "        # be no exam of the course\n",
    "\n",
    "        \"name\": \"one_exam_in_one_slot\",\n",
    "        \"detail\": \"One course exam should be in a slot\",\n",
    "        \"function\": one_exam_in_one_slot,\n",
    "        \"weight\": 10,\n",
    "        \"fields\": [\n",
    "            \"rooms\"\n",
    "        ]\n",
    "    },\n",
    "    {\n",
    "        # rooms to course. The relation is 'n to 1'\n",
    "        # A course can be in many rooms\n",
    "        # But a room can only have one Course\n",
    "\n",
    "        \"name\": \"one_room_have_one_exam\",\n",
    "        \"detail\": \"One room should have only one paper at a time\",\n",
    "        \"function\": one_room_have_one_exam,\n",
    "        \"weight\": 10,\n",
    "        \"fields\": [\n",
    "            \"rooms\"\n",
    "        ]\n",
    "    },\n",
    "    {\n",
    "        # A student can't have more than one exam at a time\n",
    "\n",
    "        \"name\": \"student_one_exam_at_a_time\",\n",
    "        \"detail\": \"One student should have one exam at a time\",\n",
    "        \"function\": student_one_exam_at_a_time,\n",
    "        \"weight\": 1,\n",
    "        \"fields\": [\n",
    "            \"students\"\n",
    "        ]\n",
    "    },\n",
    "    {\n",
    "        # Every course should have exam\n",
    "\n",
    "        \"name\": \"one_exam_per_course\",\n",
    "        \"detail\": \"Every Course should have Exam\",\n",
    "        \"function\": one_exam_per_course,\n",
    "        \"weight\": 10,\n",
    "        \"fields\": [\n",
    "            \"course\"\n",
    "        ]\n",
    "    },\n",
    "    {\n",
    "        # Every student should have exam of there registered courses\n",
    "\n",
    "        \"name\": \"student_taking_correct_exam\",\n",
    "        \"detail\": \"Every Student should have Exam\",\n",
    "        \"function\": student_taking_correct_exam,\n",
    "        \"weight\": 1,\n",
    "        \"fields\": [\n",
    "            \"course\"\n",
    "        ]\n",
    "    },\n",
    "    {\n",
    "        \"name\": \"room_cap_enough_for_students\",\n",
    "        \"detail\": \"Rooms should have enough space for the present Course Students\",\n",
    "        \"function\": room_cap_enough_for_students,\n",
    "        \"weight\": 1,\n",
    "        \"fields\": [\n",
    "            \"students\"\n",
    "            # \"rooms\" XXX because if we keep changing room and students are 10000 than we\n",
    "            # will be stuck in infinit loop\n",
    "        ]\n",
    "    }\n",
    "]\n"
   ]
  },
  {
   "cell_type": "markdown",
   "metadata": {},
   "source": [
    "### Soft Constraints"
   ]
  },
  {
   "cell_type": "markdown",
   "metadata": {},
   "source": [
    "## Fitness Calculation"
   ]
  },
  {
   "cell_type": "code",
   "execution_count": null,
   "metadata": {},
   "outputs": [],
   "source": [
    "def cal_fitness(chromosome):\n",
    "    constraints_scores = []  # scores for the constraint pass\n",
    "    mutate_fields = []  # field that requires mutation\n",
    "    tscore = 0\n",
    "\n",
    "    # Checking Hard Constraints\n",
    "    for constraint in HARD_CONSTRAINTS:\n",
    "        conflicts = constraint['function'](chromosome)\n",
    "        tscore += conflicts*constraint['weight']\n",
    "\n",
    "        constraints_scores.append({\n",
    "            \"name\":constraint['name'],\n",
    "            \"conflicts\": conflicts,\n",
    "            \"weight\": constraint['weight']\n",
    "        })\n",
    "        # constraints_score += score\n",
    "        # if score > 10:\n",
    "        #     # threshold setting\n",
    "        #     # score > 10 means bad score\n",
    "        #     if constraint[\"fields\"] not in mutate_fields:\n",
    "        #         mutate_fields += constraint[\"fields\"]\n",
    "\n",
    "    chromosome.detailfitness = constraints_scores\n",
    "\n",
    "    # Assigning the calculated fitness to the chromosome\n",
    "    # range is 0-1. 0 beign the lowest and 1 means the perfect\n",
    "    actualfitness = 1 / ((1.0*tscore+1))\n",
    "    chromosome.fitnessval = actualfitness\n",
    "\n",
    "    return actualfitness, mutate_fields\n"
   ]
  },
  {
   "cell_type": "markdown",
   "metadata": {},
   "source": [
    "# Genetic Algorithm"
   ]
  },
  {
   "cell_type": "markdown",
   "metadata": {},
   "source": [
    "## Selection\n",
    "## TODO"
   ]
  },
  {
   "cell_type": "code",
   "execution_count": null,
   "metadata": {},
   "outputs": [],
   "source": [
    "def roulette_wheel(population):\n",
    "    pass\n"
   ]
  },
  {
   "cell_type": "code",
   "execution_count": null,
   "metadata": {},
   "outputs": [],
   "source": [
    "def elitism(population):\n",
    "    pass\n"
   ]
  },
  {
   "cell_type": "code",
   "execution_count": null,
   "metadata": {},
   "outputs": [],
   "source": [
    "def select_best_parents(population):\n",
    "    # Selects the best mom and dad\n",
    "    return roulette_wheel(population) if rnd.randint(0, 1) else elitism(population)\n"
   ]
  },
  {
   "cell_type": "markdown",
   "metadata": {},
   "source": [
    "## Crossover\n",
    "## TODO"
   ]
  },
  {
   "cell_type": "code",
   "execution_count": null,
   "metadata": {},
   "outputs": [],
   "source": []
  },
  {
   "cell_type": "markdown",
   "metadata": {},
   "source": [
    "## Initialization"
   ]
  },
  {
   "cell_type": "code",
   "execution_count": null,
   "metadata": {},
   "outputs": [],
   "source": [
    "def init_population(rng=10):\n",
    "    return Population(rng=rng)\n"
   ]
  },
  {
   "cell_type": "code",
   "execution_count": null,
   "metadata": {},
   "outputs": [],
   "source": [
    "newpop = init_population(10)\n",
    "newpop\n"
   ]
  },
  {
   "cell_type": "code",
   "execution_count": null,
   "metadata": {},
   "outputs": [],
   "source": [
    "for chrom in newpop:\n",
    "    cal_fitness(chrom)\n"
   ]
  },
  {
   "cell_type": "code",
   "execution_count": null,
   "metadata": {},
   "outputs": [],
   "source": [
    "newpop"
   ]
  },
  {
   "cell_type": "code",
   "execution_count": null,
   "metadata": {},
   "outputs": [],
   "source": [
    "worst=newpop.get_worst()\n",
    "worst"
   ]
  },
  {
   "cell_type": "code",
   "execution_count": null,
   "metadata": {},
   "outputs": [],
   "source": [
    "worst.detailfitness"
   ]
  },
  {
   "cell_type": "code",
   "execution_count": null,
   "metadata": {},
   "outputs": [],
   "source": [
    "best=newpop.get_best()\n",
    "best"
   ]
  },
  {
   "cell_type": "code",
   "execution_count": null,
   "metadata": {},
   "outputs": [],
   "source": [
    "best.detailfitness"
   ]
  },
  {
   "cell_type": "code",
   "execution_count": null,
   "metadata": {},
   "outputs": [],
   "source": []
  },
  {
   "cell_type": "code",
   "execution_count": null,
   "metadata": {},
   "outputs": [],
   "source": [
    "table = chromosome_to_df(best)\n",
    "table.to_csv('best.csv')\n",
    "table\n"
   ]
  },
  {
   "cell_type": "markdown",
   "metadata": {},
   "source": [
    "# Local Search"
   ]
  },
  {
   "cell_type": "markdown",
   "metadata": {},
   "source": [
    "## Neighbour Operator"
   ]
  },
  {
   "cell_type": "code",
   "execution_count": null,
   "metadata": {},
   "outputs": [],
   "source": [
    "def neighbourhood_operator(chromosome):\n",
    "    course=np.random.choice(chromosome.get_courses())\n",
    "    slot=np.random.choice(chromosome.get_slots())\n",
    "    room=np.random.choice(chromosome.get_rooms())\n",
    "    students=chromosome.get_students_of_course(course)\n",
    "    gen=Gene(course,room,slot,students)\n",
    "    return gen"
   ]
  },
  {
   "cell_type": "markdown",
   "metadata": {},
   "source": [
    "## Initialization"
   ]
  },
  {
   "cell_type": "code",
   "execution_count": null,
   "metadata": {},
   "outputs": [],
   "source": [
    "def local_search(population):\n",
    "    best=0\n",
    "    for i in population.chromosomes:\n",
    "        cal_fitness(population.chromosomes[i])\n",
    "\n",
    "        if population.chromosomes[i].fitnessval > best:\n",
    "            best=population.chromosomes[i].fitnessval\n",
    "            best_chromosome=population.chromosomes[i]\n",
    "\n",
    "    rng = rnd.randint(totalcourses, totalcourses+30)\n",
    "    genes = [neighbourhood_operator(best_chromosome) for _ in range(0, rng)]\n",
    "\n",
    "    new_chromosome=Chromosome(genes)\n",
    "    cal_fitness(new_chromosome)\n",
    "\n",
    "    if new_chromosome.fitnessval>best:\n",
    "        best=new_chromosome.fitnessval\n",
    "        best_chromosome=new_chromosome\n",
    "        \n",
    "    return [best,best_chromosome]"
   ]
  }
 ],
 "metadata": {
  "interpreter": {
   "hash": "cddab926b86a0355060d4c1e73e580d75bbe792e0d664150f1138a90cdb68d86"
  },
  "kernelspec": {
   "display_name": "Python 3.9.2 64-bit",
   "name": "python3"
  },
  "language_info": {
   "codemirror_mode": {
    "name": "ipython",
    "version": 3
   },
   "file_extension": ".py",
   "mimetype": "text/x-python",
   "name": "python",
   "nbconvert_exporter": "python",
   "pygments_lexer": "ipython3",
   "version": "3.9.2"
  },
  "orig_nbformat": 4
 },
 "nbformat": 4,
 "nbformat_minor": 2
}