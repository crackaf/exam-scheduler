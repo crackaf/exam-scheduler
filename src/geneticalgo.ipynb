{
 "cells": [
  {
   "cell_type": "code",
   "execution_count": 1,
   "metadata": {},
   "outputs": [],
   "source": [
    "import data\n",
    "from population import *\n",
    "from fitness import cal_fitness\n",
    "import random as rnd\n",
    "\n",
    "\n",
    "#call this only once\n",
    "data.init_data()\n"
   ]
  },
  {
   "cell_type": "markdown",
   "metadata": {},
   "source": [
    "## Population Initialization"
   ]
  },
  {
   "cell_type": "code",
   "execution_count": 2,
   "metadata": {},
   "outputs": [],
   "source": [
    "def init_population():\n",
    "    return Population()\n"
   ]
  },
  {
   "cell_type": "code",
   "execution_count": null,
   "metadata": {},
   "outputs": [],
   "source": []
  },
  {
   "cell_type": "markdown",
   "metadata": {},
   "source": [
    "## Selection"
   ]
  },
  {
   "cell_type": "code",
   "execution_count": 3,
   "metadata": {},
   "outputs": [],
   "source": [
    "def roulette_wheel(population):\n",
    "  pass"
   ]
  },
  {
   "cell_type": "code",
   "execution_count": 4,
   "metadata": {},
   "outputs": [],
   "source": [
    "def elitism(population):\n",
    "  pass"
   ]
  },
  {
   "cell_type": "code",
   "execution_count": 5,
   "metadata": {},
   "outputs": [],
   "source": [
    "def select_best_parent(population):\n",
    "  # Selects the best mom and dad\n",
    "  return roulette_wheel(population) if rnd.randint(0, 1) else elitism(population)"
   ]
  },
  {
   "cell_type": "markdown",
   "metadata": {},
   "source": [
    "## Crossover"
   ]
  },
  {
   "cell_type": "code",
   "execution_count": null,
   "metadata": {},
   "outputs": [],
   "source": []
  },
  {
   "cell_type": "markdown",
   "metadata": {},
   "source": []
  },
  {
   "cell_type": "code",
   "execution_count": 6,
   "metadata": {},
   "outputs": [],
   "source": [
    "pop = Population()"
   ]
  },
  {
   "cell_type": "code",
   "execution_count": 7,
   "metadata": {},
   "outputs": [
    {
     "name": "stdout",
     "output_type": "stream",
     "text": [
      "Chrom[Genes=46, Fitness=-2914]\n",
      "Chrom[Genes=33, Fitness=-1540]\n",
      "Chrom[Genes=47, Fitness=-2359]\n",
      "Chrom[Genes=38, Fitness=-2309]\n",
      "Chrom[Genes=48, Fitness=-3636]\n",
      "Chrom[Genes=32, Fitness=-1406]\n",
      "Chrom[Genes=42, Fitness=-3299]\n",
      "Chrom[Genes=42, Fitness=-3736]\n",
      "Chrom[Genes=42, Fitness=-3108]\n"
     ]
    }
   ],
   "source": [
    "for chromosome in pop:\n",
    "  chromosome.fitnessval,_=cal_fitness(chromosome)\n",
    "  print(chromosome)"
   ]
  }
 ],
 "metadata": {
  "interpreter": {
   "hash": "cddab926b86a0355060d4c1e73e580d75bbe792e0d664150f1138a90cdb68d86"
  },
  "kernelspec": {
   "display_name": "Python 3.9.2 64-bit",
   "name": "python3"
  },
  "language_info": {
   "name": "python",
   "version": ""
  },
  "orig_nbformat": 4
 },
 "nbformat": 4,
 "nbformat_minor": 2
}